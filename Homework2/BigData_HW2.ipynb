{
 "cells": [
  {
   "cell_type": "code",
   "execution_count": 1,
   "metadata": {
    "collapsed": false
   },
   "outputs": [
    {
     "name": "stderr",
     "output_type": "stream",
     "text": [
      "C:\\Users\\Ally\\Anaconda2\\lib\\site-packages\\sklearn\\cross_validation.py:44: DeprecationWarning: This module was deprecated in version 0.18 in favor of the model_selection module into which all the refactored classes and functions are moved. Also note that the interface of the new CV iterators are different from that of this module. This module will be removed in 0.20.\n",
      "  \"This module will be removed in 0.20.\", DeprecationWarning)\n",
      "C:\\Users\\Ally\\Anaconda2\\lib\\site-packages\\sklearn\\grid_search.py:43: DeprecationWarning: This module was deprecated in version 0.18 in favor of the model_selection module into which all the refactored classes and functions are moved. This module will be removed in 0.20.\n",
      "  DeprecationWarning)\n"
     ]
    }
   ],
   "source": [
    "# Import libraries:\n",
    "import pandas as pd\n",
    "import numpy as np\n",
    "import xgboost as xgb\n",
    "from xgboost.sklearn import XGBClassifier\n",
    "from sklearn import cross_validation, metrics   #Additional     scklearn functions\n",
    "from sklearn.grid_search import GridSearchCV   #Perforing grid search.\n",
    "\n",
    "import matplotlib.pylab as plt\n",
    "%matplotlib inline\n",
    "\n",
    "from matplotlib.pylab import rcParams\n",
    "rcParams['figure.figsize'] = 12, 4"
   ]
  },
  {
   "cell_type": "code",
   "execution_count": 2,
   "metadata": {
    "collapsed": false
   },
   "outputs": [],
   "source": [
    "# Load the data\n",
    "train_df = pd.read_csv('./data/Train.csv', header=0)\n",
    "target = 'Class'"
   ]
  },
  {
   "cell_type": "code",
   "execution_count": 3,
   "metadata": {
    "collapsed": false
   },
   "outputs": [],
   "source": [
    "# Choose all predictors except target\n",
    "predictors = [x for x in train_df.columns if x not in [target]]\n",
    "\n",
    "# initialize model\n",
    "# xgb_model = XGBClassifier( \n",
    "#     learning_rate = 0.1,\n",
    "#     n_estimators = 140, \n",
    "#     max_depth = 3, \n",
    "#     min_child_weight = 1,\n",
    "#     gamma = 0,\n",
    "#     subsample = 0.8,\n",
    "#     colsample_bytree = 0.8,         \n",
    "#     #objective = \"multi:softmax\",\n",
    "#     nthread = 4, \n",
    "#     scale_pos_weight = 1, \n",
    "#     seed = 27)\n",
    "\n",
    "xgb_model = XGBClassifier(\n",
    "    learning_rate = 0.1,\n",
    "    n_estimators = 200,\n",
    "    max_depth = 3,\n",
    "    min_child_weight = 3,\n",
    "    gamma = 0,\n",
    "    subsample = 0.8,\n",
    "    objective= 'binary:logistic',\n",
    "    colsample_bytree = 0.8,\n",
    "    nthread = 4,\n",
    "    scale_pos_weight = 1,\n",
    "    seed = 27)"
   ]
  },
  {
   "cell_type": "code",
   "execution_count": 4,
   "metadata": {
    "collapsed": false
   },
   "outputs": [
    {
     "name": "stderr",
     "output_type": "stream",
     "text": [
      "C:\\Users\\Ally\\Anaconda2\\lib\\site-packages\\sklearn\\cross_validation.py:552: Warning: The least populated class in y has only 3 members, which is too few. The minimum number of labels for any class cannot be less than n_folds=5.\n",
      "  % (min_labels, self.n_folds)), Warning)\n"
     ]
    },
    {
     "data": {
      "text/plain": [
       "([mean: 0.82063, std: 0.10877, params: {'max_depth': 3},\n",
       "  mean: 0.82063, std: 0.10877, params: {'max_depth': 5}],\n",
       " {'max_depth': 3},\n",
       " 0.8206349206349206)"
      ]
     },
     "execution_count": 4,
     "metadata": {},
     "output_type": "execute_result"
    }
   ],
   "source": [
    "# Test the parameters - max_depth & min_child_weight\n",
    "# Because those two parameters make much impact in the result\n",
    "param_test1 = {\n",
    "    'max_depth':range(3,7,2)\n",
    "}\n",
    "\n",
    "gsearch1 = GridSearchCV(\n",
    "    estimator = xgb_model,\n",
    "    param_grid = param_test1,\n",
    "    n_jobs = 4,\n",
    "    iid = False,\n",
    "    cv = 5)\n",
    "\n",
    "gsearch1.fit(train_df[predictors],train_df[target])\n",
    "\n",
    "# Print the output\n",
    "gsearch1.grid_scores_, gsearch1.best_params_, gsearch1.best_score_"
   ]
  },
  {
   "cell_type": "code",
   "execution_count": 2,
   "metadata": {
    "collapsed": false
   },
   "outputs": [],
   "source": [
    "import pandas as pd\n",
    "import datetime as dt\n",
    "import numpy as np\n",
    "from sklearn.neural_network import MLPRegressor\n",
    "from sklearn.model_selection import train_test_split\n",
    "from sklearn.model_selection import GridSearchCV\n",
    "from sklearn.model_selection import cross_val_score\n",
    "from xgboost import XGBClassifier"
   ]
  },
  {
   "cell_type": "code",
   "execution_count": 3,
   "metadata": {
    "collapsed": true
   },
   "outputs": [],
   "source": [
    "data = pd.read_csv('./data/LargeTrain.csv')\n",
    "     \n",
    "# get predictors and target titles\n",
    "target ='Class'\n",
    "predictors = [x for x in data.columns if x not in [target]]\n",
    "\n",
    "# prepare training data and testing data\n",
    "mask = np.random.rand(len(data)) < 0.8 \n",
    "training = data[mask]\n",
    "test = data[~mask]\n",
    "\n",
    "# prepare training predictors and target\n",
    "X = training[predictors]\n",
    "y = training[target]\n",
    "\n",
    "# initialize model\n",
    "xgb_model = XGBClassifier(\n",
    "    learning_rate = 0.1,\n",
    "    n_estimators = 200,\n",
    "    max_depth = 3,\n",
    "    min_child_weight = 3,\n",
    "    gamma = 0,\n",
    "    subsample = 0.8,\n",
    "    objective= 'binary:logistic',\n",
    "    colsample_bytree = 0.8,\n",
    "    nthread = 4,\n",
    "    scale_pos_weight = 1,\n",
    "    seed = 27)"
   ]
  },
  {
   "cell_type": "code",
   "execution_count": null,
   "metadata": {
    "collapsed": true
   },
   "outputs": [],
   "source": [
    "param_test1 = {\n",
    "    'max_depth':list(range(1,11,2)),\n",
    "    'min_child_weight':list(range(1,11,2))  \n",
    "}\n",
    "\n",
    "gsearch1 = GridSearchCV(\n",
    "    estimator = xgb_model,\n",
    "    param_grid = param_test1,\n",
    "    n_jobs = 4,\n",
    "    iid = False,\n",
    "    cv = 5)\n",
    "\n",
    "gsearch1.fit(X, y)\n",
    "gsearch1.grid_scores_"
   ]
  },
  {
   "cell_type": "code",
   "execution_count": null,
   "metadata": {
    "collapsed": true
   },
   "outputs": [],
   "source": []
  }
 ],
 "metadata": {
  "kernelspec": {
   "display_name": "Python 2",
   "language": "python",
   "name": "python2"
  },
  "language_info": {
   "codemirror_mode": {
    "name": "ipython",
    "version": 2
   },
   "file_extension": ".py",
   "mimetype": "text/x-python",
   "name": "python",
   "nbconvert_exporter": "python",
   "pygments_lexer": "ipython2",
   "version": "2.7.13"
  }
 },
 "nbformat": 4,
 "nbformat_minor": 2
}
