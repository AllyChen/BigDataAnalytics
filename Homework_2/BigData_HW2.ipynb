{
 "cells": [
  {
   "cell_type": "code",
   "execution_count": 4,
   "metadata": {
    "collapsed": false
   },
   "outputs": [],
   "source": [
    "# Import libraries:\n",
    "import pandas as pd\n",
    "import numpy as np\n",
    "import xgboost as xgb\n",
    "from xgboost.sklearn import XGBClassifier\n",
    "from sklearn.model_selection import GridSearchCV   #Perforing grid search.\n",
    "\n",
    "import matplotlib.pylab as plt\n",
    "%matplotlib inline\n",
    "\n",
    "from matplotlib.pylab import rcParams\n",
    "rcParams['figure.figsize'] = 12, 4"
   ]
  },
  {
   "cell_type": "code",
   "execution_count": 5,
   "metadata": {
    "collapsed": false
   },
   "outputs": [],
   "source": [
    "# Load the data\n",
    "train_df = pd.read_csv('./data/LargeTrain.csv', header=0)\n",
    "target = 'Class'"
   ]
  },
  {
   "cell_type": "code",
   "execution_count": 6,
   "metadata": {
    "collapsed": false
   },
   "outputs": [],
   "source": [
    "# Choose all predictors except target\n",
    "predictors = [x for x in train_df.columns if x not in [target]]\n",
    "\n",
    "# initialize model\n",
    "xgb_model = XGBClassifier( \n",
    "    learning_rate = 0.1,\n",
    "    n_estimators = 140, \n",
    "    max_depth = 3, \n",
    "    min_child_weight = 1,\n",
    "    gamma = 0,\n",
    "    subsample = 0.8,\n",
    "    colsample_bytree = 0.8,         \n",
    "    objective = \"multi:softmax\",\n",
    "    nthread = 4, \n",
    "    scale_pos_weight = 1, \n",
    "    seed = 27)"
   ]
  },
  {
   "cell_type": "code",
   "execution_count": null,
   "metadata": {
    "collapsed": false
   },
   "outputs": [],
   "source": [
    "# Test the parameters - max_depth & min_child_weight\n",
    "# Because those two parameters make much impact in the result\n",
    "param_test1 = {\n",
    "    'max_depth':range(3,11,2),\n",
    "    'min_child_weight':(range(3,11,2))\n",
    "}\n",
    "\n",
    "gsearch1 = GridSearchCV(\n",
    "    estimator = xgb_model,\n",
    "    param_grid = param_test1,\n",
    "    scoring = 'accuracy',\n",
    "    n_jobs = 4,\n",
    "    iid = False,\n",
    "    cv = 5)\n",
    "\n",
    "gsearch1.fit(train_df[predictors],train_df[target])\n",
    "\n",
    "# Print the output\n",
    "gsearch1.grid_scores_, gsearch1.best_params_, gsearch1.best_score_"
   ]
  },
  {
   "cell_type": "code",
   "execution_count": null,
   "metadata": {
    "collapsed": true
   },
   "outputs": [],
   "source": [
    "# Update the xgb_model\n",
    "xgb_model = gsearch1.best_estimator_\n",
    "\n",
    "# Test the parameters - gamma\n",
    "param_test2 = {\n",
    " 'gamma':[i/10.0 for i in range(0,5)]\n",
    "}\n",
    "\n",
    "gsearch2 = GridSearchCV(\n",
    "    estimator = xgb_model, \n",
    "    param_grid = param_test2, \n",
    "    scoring='accuracy',\n",
    "    n_jobs=4,\n",
    "    iid=False, \n",
    "    cv=5)\n",
    "\n",
    "gsearch2.fit(train_df[predictors],train_df[target])\n",
    "gsearch2.grid_scores_, gsearch2.best_params_, gsearch2.best_score_"
   ]
  }
 ],
 "metadata": {
  "kernelspec": {
   "display_name": "Python 2",
   "language": "python",
   "name": "python2"
  },
  "language_info": {
   "codemirror_mode": {
    "name": "ipython",
    "version": 2
   },
   "file_extension": ".py",
   "mimetype": "text/x-python",
   "name": "python",
   "nbconvert_exporter": "python",
   "pygments_lexer": "ipython2",
   "version": "2.7.13"
  }
 },
 "nbformat": 4,
 "nbformat_minor": 2
}
