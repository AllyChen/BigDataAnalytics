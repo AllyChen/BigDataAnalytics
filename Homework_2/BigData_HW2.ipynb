{
 "cells": [
  {
   "cell_type": "code",
   "execution_count": 3,
   "metadata": {},
   "outputs": [],
   "source": [
    "# Import libraries:\n",
    "import pandas as pd\n",
    "import numpy as np\n",
    "import xgboost as xgb\n",
    "from xgboost.sklearn import XGBClassifier\n",
    "from sklearn.model_selection import GridSearchCV   #Perforing grid search.\n",
    "\n",
    "import matplotlib.pylab as plt\n",
    "%matplotlib inline\n",
    "\n",
    "from matplotlib.pylab import rcParams\n",
    "rcParams['figure.figsize'] = 12, 4"
   ]
  },
  {
   "cell_type": "code",
   "execution_count": 4,
   "metadata": {},
   "outputs": [],
   "source": [
    "# Load the data\n",
    "train_df = pd.read_csv('./LargeTrain.csv', header=0)\n",
    "target = 'Class'"
   ]
  },
  {
   "cell_type": "code",
   "execution_count": 5,
   "metadata": {},
   "outputs": [],
   "source": [
    "# Choose all predictors except target\n",
    "predictors = [x for x in train_df.columns if x not in [target]]\n",
    "\n",
    "# initialize model\n",
    "xgb_model = XGBClassifier( \n",
    "    learning_rate = 0.1,\n",
    "    n_estimators = 140, \n",
    "    max_depth = 3, \n",
    "    min_child_weight = 1,\n",
    "    gamma = 0,\n",
    "    subsample = 0.8,\n",
    "    colsample_bytree = 0.8,         \n",
    "    objective = \"multi:softmax\",\n",
    "    nthread = 4, \n",
    "    scale_pos_weight = 1, \n",
    "    seed = 27)"
   ]
  },
  {
   "cell_type": "code",
   "execution_count": 6,
   "metadata": {},
   "outputs": [
    {
     "name": "stderr",
     "output_type": "stream",
     "text": [
      "C:\\Users\\GameLab\\Anaconda2\\lib\\site-packages\\sklearn\\model_selection\\_search.py:667: DeprecationWarning: The grid_scores_ attribute was deprecated in version 0.18 in favor of the more elaborate cv_results_ attribute. The grid_scores_ attribute will not be available from 0.20\n",
      "  DeprecationWarning)\n"
     ]
    },
    {
     "data": {
      "text/plain": [
       "([mean: 0.99678, std: 0.00096, params: {'max_depth': 3, 'min_child_weight': 3},\n",
       "  mean: 0.99650, std: 0.00111, params: {'max_depth': 3, 'min_child_weight': 5},\n",
       "  mean: 0.99650, std: 0.00138, params: {'max_depth': 3, 'min_child_weight': 7},\n",
       "  mean: 0.99604, std: 0.00125, params: {'max_depth': 3, 'min_child_weight': 9},\n",
       "  mean: 0.99669, std: 0.00089, params: {'max_depth': 5, 'min_child_weight': 3},\n",
       "  mean: 0.99632, std: 0.00130, params: {'max_depth': 5, 'min_child_weight': 5},\n",
       "  mean: 0.99623, std: 0.00134, params: {'max_depth': 5, 'min_child_weight': 7},\n",
       "  mean: 0.99632, std: 0.00151, params: {'max_depth': 5, 'min_child_weight': 9},\n",
       "  mean: 0.99678, std: 0.00071, params: {'max_depth': 7, 'min_child_weight': 3},\n",
       "  mean: 0.99696, std: 0.00099, params: {'max_depth': 7, 'min_child_weight': 5},\n",
       "  mean: 0.99660, std: 0.00129, params: {'max_depth': 7, 'min_child_weight': 7},\n",
       "  mean: 0.99632, std: 0.00151, params: {'max_depth': 7, 'min_child_weight': 9},\n",
       "  mean: 0.99660, std: 0.00080, params: {'max_depth': 9, 'min_child_weight': 3},\n",
       "  mean: 0.99687, std: 0.00114, params: {'max_depth': 9, 'min_child_weight': 5},\n",
       "  mean: 0.99669, std: 0.00125, params: {'max_depth': 9, 'min_child_weight': 7},\n",
       "  mean: 0.99632, std: 0.00133, params: {'max_depth': 9, 'min_child_weight': 9}],\n",
       " {'max_depth': 7, 'min_child_weight': 5},\n",
       " 0.99696428540599558)"
      ]
     },
     "execution_count": 6,
     "metadata": {},
     "output_type": "execute_result"
    }
   ],
   "source": [
    "# Test the parameters - max_depth & min_child_weight\n",
    "# Because those two parameters make much impact in the result\n",
    "param_test1 = {\n",
    "    'max_depth':range(3,11,2),\n",
    "    'min_child_weight':(range(3,11,2))\n",
    "}\n",
    "\n",
    "gsearch1 = GridSearchCV(\n",
    "    estimator = xgb_model,\n",
    "    param_grid = param_test1,\n",
    "    scoring = 'accuracy',\n",
    "    n_jobs = 4,\n",
    "    iid = False,\n",
    "    cv = 5)\n",
    "\n",
    "gsearch1.fit(train_df[predictors],train_df[target])\n",
    "\n",
    "# Print the output\n",
    "gsearch1.grid_scores_, gsearch1.best_params_, gsearch1.best_score_"
   ]
  },
  {
   "cell_type": "code",
   "execution_count": 7,
   "metadata": {
    "collapsed": true
   },
   "outputs": [],
   "source": [
    "# Update the xgb_model\n",
    "xgb_model = gsearch1.best_estimator_"
   ]
  },
  {
   "cell_type": "code",
   "execution_count": 8,
   "metadata": {},
   "outputs": [
    {
     "data": {
      "text/plain": [
       "XGBClassifier(base_score=0.5, colsample_bylevel=1, colsample_bytree=0.8,\n",
       "       gamma=0, learning_rate=0.1, max_delta_step=0, max_depth=7,\n",
       "       min_child_weight=5, missing=None, n_estimators=140, nthread=4,\n",
       "       objective='multi:softprob', reg_alpha=0, reg_lambda=1,\n",
       "       scale_pos_weight=1, seed=27, silent=True, subsample=0.8)"
      ]
     },
     "execution_count": 8,
     "metadata": {},
     "output_type": "execute_result"
    }
   ],
   "source": [
    "xgb_model"
   ]
  },
  {
   "cell_type": "code",
   "execution_count": 9,
   "metadata": {},
   "outputs": [
    {
     "name": "stderr",
     "output_type": "stream",
     "text": [
      "C:\\Users\\GameLab\\Anaconda2\\lib\\site-packages\\sklearn\\model_selection\\_search.py:667: DeprecationWarning: The grid_scores_ attribute was deprecated in version 0.18 in favor of the more elaborate cv_results_ attribute. The grid_scores_ attribute will not be available from 0.20\n",
      "  DeprecationWarning)\n"
     ]
    },
    {
     "data": {
      "text/plain": [
       "([mean: 0.99696, std: 0.00099, params: {'gamma': 0.0},\n",
       "  mean: 0.99669, std: 0.00118, params: {'gamma': 0.1},\n",
       "  mean: 0.99650, std: 0.00090, params: {'gamma': 0.2},\n",
       "  mean: 0.99669, std: 0.00102, params: {'gamma': 0.3},\n",
       "  mean: 0.99641, std: 0.00114, params: {'gamma': 0.4}],\n",
       " {'gamma': 0.0},\n",
       " 0.99696428540599558)"
      ]
     },
     "execution_count": 9,
     "metadata": {},
     "output_type": "execute_result"
    }
   ],
   "source": [
    "# Test the parameters - gamma\n",
    "param_test2 = {\n",
    " 'gamma':[i/10.0 for i in range(0,5)]\n",
    "}\n",
    "\n",
    "gsearch2 = GridSearchCV(\n",
    "    estimator = xgb_model, \n",
    "    param_grid = param_test2, \n",
    "    scoring='accuracy',\n",
    "    n_jobs=4,\n",
    "    iid=False, \n",
    "    cv=5)\n",
    "\n",
    "gsearch2.fit(train_df[predictors],train_df[target])\n",
    "gsearch2.grid_scores_, gsearch2.best_params_, gsearch2.best_score_"
   ]
  },
  {
   "cell_type": "code",
   "execution_count": 10,
   "metadata": {},
   "outputs": [
    {
     "data": {
      "text/plain": [
       "XGBClassifier(base_score=0.5, colsample_bylevel=1, colsample_bytree=0.8,\n",
       "       gamma=0.0, learning_rate=0.1, max_delta_step=0, max_depth=7,\n",
       "       min_child_weight=5, missing=None, n_estimators=140, nthread=4,\n",
       "       objective='multi:softprob', reg_alpha=0, reg_lambda=1,\n",
       "       scale_pos_weight=1, seed=27, silent=True, subsample=0.8)"
      ]
     },
     "execution_count": 10,
     "metadata": {},
     "output_type": "execute_result"
    }
   ],
   "source": [
    "# Update the xgb_model\n",
    "xgb_model = gsearch2.best_estimator_\n",
    "xgb_model"
   ]
  },
  {
   "cell_type": "code",
   "execution_count": 14,
   "metadata": {},
   "outputs": [
    {
     "name": "stderr",
     "output_type": "stream",
     "text": [
      "C:\\Users\\GameLab\\Anaconda2\\lib\\site-packages\\sklearn\\model_selection\\_search.py:667: DeprecationWarning: The grid_scores_ attribute was deprecated in version 0.18 in favor of the more elaborate cv_results_ attribute. The grid_scores_ attribute will not be available from 0.20\n",
      "  DeprecationWarning)\n"
     ]
    },
    {
     "data": {
      "text/plain": [
       "([mean: 0.99632, std: 0.00113, params: {'subsample': 0.6, 'colsample_bytree': 0.6},\n",
       "  mean: 0.99678, std: 0.00167, params: {'subsample': 0.7, 'colsample_bytree': 0.6},\n",
       "  mean: 0.99669, std: 0.00128, params: {'subsample': 0.8, 'colsample_bytree': 0.6},\n",
       "  mean: 0.99669, std: 0.00121, params: {'subsample': 0.9, 'colsample_bytree': 0.6},\n",
       "  mean: 0.99632, std: 0.00112, params: {'subsample': 0.6, 'colsample_bytree': 0.7},\n",
       "  mean: 0.99660, std: 0.00118, params: {'subsample': 0.7, 'colsample_bytree': 0.7},\n",
       "  mean: 0.99678, std: 0.00082, params: {'subsample': 0.8, 'colsample_bytree': 0.7},\n",
       "  mean: 0.99650, std: 0.00122, params: {'subsample': 0.9, 'colsample_bytree': 0.7},\n",
       "  mean: 0.99604, std: 0.00138, params: {'subsample': 0.6, 'colsample_bytree': 0.8},\n",
       "  mean: 0.99669, std: 0.00079, params: {'subsample': 0.7, 'colsample_bytree': 0.8},\n",
       "  mean: 0.99696, std: 0.00099, params: {'subsample': 0.8, 'colsample_bytree': 0.8},\n",
       "  mean: 0.99650, std: 0.00090, params: {'subsample': 0.9, 'colsample_bytree': 0.8},\n",
       "  mean: 0.99604, std: 0.00150, params: {'subsample': 0.6, 'colsample_bytree': 0.9},\n",
       "  mean: 0.99660, std: 0.00138, params: {'subsample': 0.7, 'colsample_bytree': 0.9},\n",
       "  mean: 0.99669, std: 0.00121, params: {'subsample': 0.8, 'colsample_bytree': 0.9},\n",
       "  mean: 0.99650, std: 0.00103, params: {'subsample': 0.9, 'colsample_bytree': 0.9}],\n",
       " {'colsample_bytree': 0.8, 'subsample': 0.8},\n",
       " 0.99696428540599558)"
      ]
     },
     "execution_count": 14,
     "metadata": {},
     "output_type": "execute_result"
    }
   ],
   "source": [
    "# Test the parameters - subsample & colsample_bytree\n",
    "param_test3 = {\n",
    " 'subsample':[i/10.0 for i in range(6,10)],\n",
    " 'colsample_bytree':[i/10.0 for i in range(6,10)]\n",
    "}\n",
    "\n",
    "gsearch3 = GridSearchCV(\n",
    "    estimator = xgb_model, \n",
    "    param_grid = param_test3, \n",
    "    scoring='accuracy',\n",
    "    n_jobs=4,\n",
    "    iid=False, \n",
    "    cv=5)\n",
    "                        \n",
    "gsearch3.fit(train_df[predictors],train_df[target])\n",
    "gsearch3.grid_scores_, gsearch3.best_params_, gsearch3.best_score_"
   ]
  },
  {
   "cell_type": "code",
   "execution_count": 15,
   "metadata": {},
   "outputs": [
    {
     "data": {
      "text/plain": [
       "XGBClassifier(base_score=0.5, colsample_bylevel=1, colsample_bytree=0.8,\n",
       "       gamma=0.0, learning_rate=0.1, max_delta_step=0, max_depth=7,\n",
       "       min_child_weight=5, missing=None, n_estimators=140, nthread=4,\n",
       "       objective='multi:softprob', reg_alpha=0, reg_lambda=1,\n",
       "       scale_pos_weight=1, seed=27, silent=True, subsample=0.8)"
      ]
     },
     "execution_count": 15,
     "metadata": {},
     "output_type": "execute_result"
    }
   ],
   "source": [
    "# Update the xgb_model\n",
    "xgb_model = gsearch2.best_estimator_\n",
    "xgb_model"
   ]
  },
  {
   "cell_type": "code",
   "execution_count": 17,
   "metadata": {},
   "outputs": [
    {
     "name": "stderr",
     "output_type": "stream",
     "text": [
      "C:\\Users\\GameLab\\Anaconda2\\lib\\site-packages\\sklearn\\model_selection\\_search.py:667: DeprecationWarning: The grid_scores_ attribute was deprecated in version 0.18 in favor of the more elaborate cv_results_ attribute. The grid_scores_ attribute will not be available from 0.20\n",
      "  DeprecationWarning)\n"
     ]
    },
    {
     "data": {
      "text/plain": [
       "([mean: 0.99696, std: 0.00099, params: {'reg_alpha': 1e-05},\n",
       "  mean: 0.99687, std: 0.00125, params: {'reg_alpha': 0.01},\n",
       "  mean: 0.99669, std: 0.00089, params: {'reg_alpha': 0.1},\n",
       "  mean: 0.99660, std: 0.00125, params: {'reg_alpha': 1},\n",
       "  mean: 0.98749, std: 0.00262, params: {'reg_alpha': 100}],\n",
       " {'reg_alpha': 1e-05},\n",
       " 0.99696428540599558)"
      ]
     },
     "execution_count": 17,
     "metadata": {},
     "output_type": "execute_result"
    }
   ],
   "source": [
    "# Test the parameters - reg_alpha\n",
    "param_test4 = {\n",
    " 'reg_alpha':[1e-5, 1e-2, 0.1, 1, 100]\n",
    "}\n",
    "\n",
    "gsearch4 = GridSearchCV(\n",
    "    estimator = xgb_model, \n",
    "    param_grid = param_test4, \n",
    "    scoring='accuracy',\n",
    "    n_jobs=4,\n",
    "    iid=False, \n",
    "    cv=5)\n",
    "\n",
    "gsearch4.fit(train_df[predictors],train_df[target])\n",
    "gsearch4.grid_scores_, gsearch4.best_params_, gsearch4.best_score_"
   ]
  },
  {
   "cell_type": "code",
   "execution_count": null,
   "metadata": {
    "collapsed": true
   },
   "outputs": [],
   "source": []
  }
 ],
 "metadata": {
  "kernelspec": {
   "display_name": "Python 2",
   "language": "python",
   "name": "python2"
  },
  "language_info": {
   "codemirror_mode": {
    "name": "ipython",
    "version": 2
   },
   "file_extension": ".py",
   "mimetype": "text/x-python",
   "name": "python",
   "nbconvert_exporter": "python",
   "pygments_lexer": "ipython2",
   "version": "2.7.13"
  }
 },
 "nbformat": 4,
 "nbformat_minor": 2
}
